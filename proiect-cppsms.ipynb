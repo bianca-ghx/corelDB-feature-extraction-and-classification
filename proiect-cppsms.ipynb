{
 "cells": [
  {
   "cell_type": "markdown",
   "metadata": {
    "pycharm": {
     "name": "#%% md\n"
    }
   },
   "source": [
    "## Import Libraries"
   ]
  },
  {
   "cell_type": "code",
   "execution_count": 49,
   "metadata": {
    "collapsed": false,
    "execution": {
     "iopub.execute_input": "2023-01-14T13:09:26.129013Z",
     "iopub.status.busy": "2023-01-14T13:09:26.128058Z",
     "iopub.status.idle": "2023-01-14T13:09:27.216731Z",
     "shell.execute_reply": "2023-01-14T13:09:27.215779Z",
     "shell.execute_reply.started": "2023-01-14T13:09:26.128904Z"
    },
    "jupyter": {
     "outputs_hidden": false
    },
    "pycharm": {
     "name": "#%%\n"
    }
   },
   "outputs": [],
   "source": [
    "import matplotlib.pyplot as plt\n",
    "from sklearn.model_selection import train_test_split\n",
    "from sklearn.preprocessing import LabelEncoder\n",
    "from skimage import transform\n",
    "import numpy as np\n",
    "import cv2\n",
    "import os\n",
    "import glob\n",
    "import pandas as pd\n",
    "import warnings\n",
    "warnings.filterwarnings('ignore')\n",
    "\n",
    "import imageio"
   ]
  },
  {
   "cell_type": "markdown",
   "metadata": {
    "pycharm": {
     "name": "#%% md\n"
    }
   },
   "source": [
    "##  Feature Extraction"
   ]
  },
  {
   "cell_type": "code",
   "execution_count": 50,
   "metadata": {
    "execution": {
     "iopub.execute_input": "2023-01-14T13:09:27.219142Z",
     "iopub.status.busy": "2023-01-14T13:09:27.218684Z",
     "iopub.status.idle": "2023-01-14T13:09:27.227155Z",
     "shell.execute_reply": "2023-01-14T13:09:27.225952Z",
     "shell.execute_reply.started": "2023-01-14T13:09:27.219086Z"
    }
   },
   "outputs": [],
   "source": [
    "def image_to_feature_vector(image, size=(80, 80)):\n",
    "    image = transform.resize(image, size)\n",
    "    return image.flatten()"
   ]
  },
  {
   "cell_type": "code",
   "execution_count": 51,
   "metadata": {
    "execution": {
     "iopub.execute_input": "2023-01-14T13:09:27.229068Z",
     "iopub.status.busy": "2023-01-14T13:09:27.228720Z",
     "iopub.status.idle": "2023-01-14T13:09:27.238820Z",
     "shell.execute_reply": "2023-01-14T13:09:27.237759Z",
     "shell.execute_reply.started": "2023-01-14T13:09:27.229032Z"
    }
   },
   "outputs": [],
   "source": [
    "def extract_color_histogram(image, bins=(10, 10, 10)):\n",
    "    image = cv2.resize(image, (80, 80))\n",
    "    # extract a 3D color histogram from the HSV color space using\n",
    "    # the supplied number of `bins` per channel\n",
    "    hsv = cv2.cvtColor(image, cv2.COLOR_BGR2HSV)\n",
    "    hist = cv2.calcHist([hsv], [0, 1, 2], None, bins,\n",
    "                        [0, 180, 0, 256, 0, 256])\n",
    "    cv2.normalize(hist, hist)\n",
    "    # return the flattened histogram as the feature vector\n",
    "    return hist.flatten()"
   ]
  },
  {
   "cell_type": "code",
   "execution_count": 52,
   "metadata": {
    "execution": {
     "iopub.execute_input": "2023-01-14T13:09:27.243850Z",
     "iopub.status.busy": "2023-01-14T13:09:27.243012Z",
     "iopub.status.idle": "2023-01-14T13:09:27.362753Z",
     "shell.execute_reply": "2023-01-14T13:09:27.361745Z",
     "shell.execute_reply.started": "2023-01-14T13:09:27.243815Z"
    }
   },
   "outputs": [],
   "source": [
    "from skimage.feature import hog\n",
    "def HOG(image):\n",
    "    img = transform.resize(image, (80, 80))\n",
    "    fd = hog(image, \n",
    "             orientations=8, \n",
    "             pixels_per_cell=(8,8),\n",
    "             cells_per_block=(3,3), \n",
    "             block_norm='L2-Hys', \n",
    "             visualize=False, \n",
    "             transform_sqrt=False,\n",
    "             channel_axis=-1)\n",
    "    return fd"
   ]
  },
  {
   "cell_type": "code",
   "execution_count": 53,
   "metadata": {
    "execution": {
     "iopub.execute_input": "2023-01-14T13:09:27.364746Z",
     "iopub.status.busy": "2023-01-14T13:09:27.364031Z",
     "iopub.status.idle": "2023-01-14T13:09:27.379175Z",
     "shell.execute_reply": "2023-01-14T13:09:27.378313Z",
     "shell.execute_reply.started": "2023-01-14T13:09:27.364710Z"
    }
   },
   "outputs": [],
   "source": [
    "from scipy.fftpack import dct, idct\n",
    "from skimage.color import rgb2gray\n",
    "def DCT_2D(image, num_coeffs=100, width=80): \n",
    "    # implement 2D DCT\n",
    "    def dct2(a):\n",
    "        return dct(dct(a.T, norm='ortho').T, norm='ortho')\n",
    "    image = rgb2gray(image) \n",
    "    image = transform.resize(image, (width, width))\n",
    "    imageF = dct2(image)\n",
    "    zigzag = np.concatenate([np.diagonal(imageF[::-1,:], i)[::(2*(i % 2)-1)] for i in range(1-imageF.shape[0], imageF.shape[0])])\n",
    "    return zigzag[:num_coeffs]"
   ]
  },
  {
   "cell_type": "code",
   "execution_count": 54,
   "metadata": {},
   "outputs": [],
   "source": [
    "from skimage.feature import graycomatrix, graycoprops\n",
    "def co_occurence(image):\n",
    "    image = cv2.cvtColor(image, cv2.COLOR_RGB2GRAY)\n",
    "    features = []\n",
    "    for j in [1, 3, 5, 7]:\n",
    "        for k in [0, np.pi/4, np.pi/2, 3*np.pi/4, np.pi]:\n",
    "            GLCM_properties = []\n",
    "            GLCM = graycomatrix(image, [j], [k])\n",
    "            GLCM_Energy = graycoprops(GLCM, 'energy')\n",
    "            GLCM_properties.append(np.squeeze(GLCM_Energy))\n",
    "            GLCM_corr = graycoprops(GLCM, 'correlation')\n",
    "            GLCM_properties.append(np.squeeze(GLCM_corr))\n",
    "            GLCM_diss = graycoprops(GLCM, 'dissimilarity')\n",
    "            GLCM_properties.append(np.squeeze(GLCM_diss))\n",
    "            GLCM_hom = graycoprops(GLCM, 'homogeneity')\n",
    "            GLCM_properties.append(np.squeeze(GLCM_hom))       \n",
    "            GLCM_contr = graycoprops(GLCM, 'contrast')\n",
    "            GLCM_properties.append(np.squeeze(GLCM_contr))\n",
    "            features += GLCM_properties\n",
    "    return list(features)"
   ]
  },
  {
   "cell_type": "code",
   "execution_count": 55,
   "metadata": {
    "collapsed": false,
    "execution": {
     "iopub.execute_input": "2023-01-14T13:09:27.381158Z",
     "iopub.status.busy": "2023-01-14T13:09:27.380814Z",
     "iopub.status.idle": "2023-01-14T13:09:27.387296Z",
     "shell.execute_reply": "2023-01-14T13:09:27.385625Z",
     "shell.execute_reply.started": "2023-01-14T13:09:27.381125Z"
    },
    "jupyter": {
     "outputs_hidden": false
    },
    "pycharm": {
     "name": "#%%\n"
    }
   },
   "outputs": [],
   "source": [
    "images = []\n",
    "labels = []"
   ]
  },
  {
   "cell_type": "code",
   "execution_count": 58,
   "metadata": {
    "collapsed": false,
    "execution": {
     "iopub.execute_input": "2023-01-14T13:09:27.389519Z",
     "iopub.status.busy": "2023-01-14T13:09:27.388793Z",
     "iopub.status.idle": "2023-01-14T13:10:31.786931Z",
     "shell.execute_reply": "2023-01-14T13:10:31.785903Z",
     "shell.execute_reply.started": "2023-01-14T13:09:27.389484Z"
    },
    "jupyter": {
     "outputs_hidden": false
    },
    "pycharm": {
     "name": "#%%\n"
    }
   },
   "outputs": [
    {
     "name": "stdout",
     "output_type": "stream",
     "text": [
      "1000/10800\n",
      "2000/10800\n",
      "3000/10800\n",
      "4000/10800\n",
      "5000/10800\n",
      "6000/10800\n",
      "7000/10800\n",
      "8000/10800\n",
      "9000/10800\n",
      "10000/10800\n"
     ]
    }
   ],
   "source": [
    "pathName = \"CorelDB\"\n",
    "i = 0\n",
    "for dirName, subdirList, fileList in os.walk(pathName):\n",
    "    for fileName in fileList:\n",
    "        base, extension = os.path.splitext(fileName)\n",
    "        if extension == '.jpg' or extension == '.JPG' or extension == '.png' or extension == '.PNG':\n",
    "\n",
    "            imagePath = f\"{dirName}/{fileName}\"\n",
    "            image = imageio.imread(imagePath)\n",
    "            images.append(image)\n",
    "            \n",
    "            label = os.path.basename(dirName)\n",
    "            labels.append(label)\n",
    "\n",
    "            if i > 0 and i % 1000 == 0:\n",
    "                print(f\"{i}/10800\")\n",
    "\n",
    "            i += 1"
   ]
  },
  {
   "cell_type": "code",
   "execution_count": 57,
   "metadata": {
    "execution": {
     "iopub.execute_input": "2023-01-14T13:10:31.788962Z",
     "iopub.status.busy": "2023-01-14T13:10:31.788598Z",
     "iopub.status.idle": "2023-01-14T13:10:33.168657Z",
     "shell.execute_reply": "2023-01-14T13:10:33.167490Z",
     "shell.execute_reply.started": "2023-01-14T13:10:31.788926Z"
    }
   },
   "outputs": [
    {
     "name": "stdout",
     "output_type": "stream",
     "text": [
      "(770, 7488)\n",
      "(770,)\n"
     ]
    }
   ],
   "source": [
    "feature_extraction_method = HOG\n",
    "X = np.array(list(map(feature_extraction_method, images)))\n",
    "print(X.shape)\n",
    "\n",
    "le = LabelEncoder()\n",
    "y = le.fit_transform(labels)\n",
    "print(y.shape)"
   ]
  },
  {
   "cell_type": "markdown",
   "metadata": {},
   "source": [
    "## Data Preprocessing"
   ]
  },
  {
   "cell_type": "code",
   "execution_count": 40,
   "metadata": {
    "collapsed": false,
    "execution": {
     "iopub.execute_input": "2023-01-14T13:10:33.170516Z",
     "iopub.status.busy": "2023-01-14T13:10:33.170046Z",
     "iopub.status.idle": "2023-01-14T13:10:33.228052Z",
     "shell.execute_reply": "2023-01-14T13:10:33.227039Z",
     "shell.execute_reply.started": "2023-01-14T13:10:33.170478Z"
    },
    "jupyter": {
     "outputs_hidden": false
    },
    "pycharm": {
     "name": "#%%\n"
    }
   },
   "outputs": [
    {
     "name": "stdout",
     "output_type": "stream",
     "text": [
      "(616, 1000)\n",
      "(154, 1000)\n",
      "(616,)\n",
      "(154,)\n"
     ]
    }
   ],
   "source": [
    "X_train, X_test, y_train, y_test = train_test_split(X, y, test_size=0.2)\n",
    "\n",
    "print(X_train.shape)\n",
    "print(X_test.shape)\n",
    "print(y_train.shape)\n",
    "print(y_test.shape)"
   ]
  },
  {
   "cell_type": "markdown",
   "metadata": {},
   "source": [
    "## PCA"
   ]
  },
  {
   "cell_type": "code",
   "execution_count": 41,
   "metadata": {
    "execution": {
     "iopub.execute_input": "2023-01-14T13:10:33.231762Z",
     "iopub.status.busy": "2023-01-14T13:10:33.231484Z",
     "iopub.status.idle": "2023-01-14T13:10:33.236171Z",
     "shell.execute_reply": "2023-01-14T13:10:33.235062Z",
     "shell.execute_reply.started": "2023-01-14T13:10:33.231736Z"
    }
   },
   "outputs": [],
   "source": [
    "# from sklearn.decomposition import PCA\n",
    "# pca = PCA(n_components=1000)\n",
    "# X_pca_train = pca.fit_transform(X_train)\n",
    "# X_pca_test = pca.transform(X_test)\n",
    "# y_pca_train = y_train\n",
    "# y_pca_test = y_test\n",
    "\n",
    "# print(X_pca_train.shape)\n",
    "# print(X_pca_test.shape)\n",
    "\n",
    "# explained_variance = pca.explained_variance_\n",
    "# plt.plot(np.cumsum((pca.explained_variance_)))\n",
    "# plt.show()"
   ]
  },
  {
   "cell_type": "markdown",
   "metadata": {
    "pycharm": {
     "name": "#%% md\n"
    }
   },
   "source": [
    "##  Classification"
   ]
  },
  {
   "cell_type": "code",
   "execution_count": 42,
   "metadata": {
    "execution": {
     "iopub.execute_input": "2023-01-14T13:10:33.238242Z",
     "iopub.status.busy": "2023-01-14T13:10:33.237439Z",
     "iopub.status.idle": "2023-01-14T13:10:33.246969Z",
     "shell.execute_reply": "2023-01-14T13:10:33.245979Z",
     "shell.execute_reply.started": "2023-01-14T13:10:33.238207Z"
    }
   },
   "outputs": [],
   "source": [
    "from sklearn import svm\n",
    "from sklearn.ensemble import RandomForestClassifier\n",
    "from sklearn.linear_model import LogisticRegression\n",
    "from sklearn.neighbors import KNeighborsClassifier\n",
    "from sklearn.tree import DecisionTreeClassifier\n",
    "\n",
    "model_params = {\n",
    "    'svm': {\n",
    "        'model': svm.SVC(gamma='auto'),\n",
    "        'params' : {\n",
    "            'C': [1, 10, 20, 30, 50, 100],\n",
    "            'kernel': ['sigmoid', 'rbf', 'linear', 'poly']\n",
    "        }  \n",
    "    },\n",
    "    'random_forest': {\n",
    "        'model': RandomForestClassifier(),\n",
    "        'params' : {\n",
    "            'n_estimators': [1, 5, 10, 50, 100, 200, 300, 400, 500, 600, 700, 800, 900, 1000]\n",
    "        }\n",
    "    },\n",
    "    'logistic_regression' : {\n",
    "        'model': LogisticRegression(solver='liblinear',multi_class='auto'),\n",
    "        'params': {\n",
    "            'C': [1, 5, 10, 50, 100]\n",
    "        }\n",
    "    },\n",
    "    'KNN' : {\n",
    "        'model': KNeighborsClassifier(),\n",
    "        'params': {\n",
    "            'n_neighbors': [1 ,3, 5, 7, 9, 11, 13],\n",
    "            'metric': [\"minkowski\", \"euclidean\", \"manhattan\", \"chebyshev\", \"cosine\", \"hamming\", \"canberra\", \"braycurtis\"]\n",
    "        }\n",
    "    }\n",
    "    \n",
    "}"
   ]
  },
  {
   "cell_type": "code",
   "execution_count": 43,
   "metadata": {},
   "outputs": [
    {
     "name": "stdout",
     "output_type": "stream",
     "text": [
      "Fitting 3 folds for each of 24 candidates, totalling 72 fits\n",
      "[CV 1/3] END C=1, kernel=sigmoid;, score=(train=0.327, test=0.325) total time=   0.0s\n",
      "[CV 2/3] END C=1, kernel=sigmoid;, score=(train=0.326, test=0.327) total time=   0.0s\n",
      "[CV 3/3] END C=1, kernel=sigmoid;, score=(train=0.326, test=0.327) total time=   0.0s\n",
      "[CV 1/3] END C=1, kernel=rbf;, score=(train=0.327, test=0.325) total time=   0.0s\n",
      "[CV 2/3] END C=1, kernel=rbf;, score=(train=0.326, test=0.327) total time=   0.0s\n",
      "[CV 3/3] END C=1, kernel=rbf;, score=(train=0.326, test=0.327) total time=   0.0s\n",
      "[CV 1/3] END C=1, kernel=linear;, score=(train=0.749, test=0.539) total time=   0.0s\n",
      "[CV 2/3] END C=1, kernel=linear;, score=(train=0.764, test=0.571) total time=   0.0s\n",
      "[CV 3/3] END C=1, kernel=linear;, score=(train=0.742, test=0.546) total time=   0.0s\n",
      "[CV 1/3] END C=1, kernel=poly;, score=(train=0.327, test=0.325) total time=   0.0s\n",
      "[CV 2/3] END C=1, kernel=poly;, score=(train=0.326, test=0.327) total time=   0.0s\n",
      "[CV 3/3] END C=1, kernel=poly;, score=(train=0.326, test=0.327) total time=   0.0s\n",
      "[CV 1/3] END C=10, kernel=sigmoid;, score=(train=0.327, test=0.325) total time=   0.0s\n",
      "[CV 2/3] END C=10, kernel=sigmoid;, score=(train=0.326, test=0.327) total time=   0.0s\n",
      "[CV 3/3] END C=10, kernel=sigmoid;, score=(train=0.326, test=0.327) total time=   0.0s\n",
      "[CV 1/3] END C=10, kernel=rbf;, score=(train=0.327, test=0.325) total time=   0.0s\n",
      "[CV 2/3] END C=10, kernel=rbf;, score=(train=0.326, test=0.327) total time=   0.0s\n",
      "[CV 3/3] END C=10, kernel=rbf;, score=(train=0.326, test=0.327) total time=   0.0s\n",
      "[CV 1/3] END C=10, kernel=linear;, score=(train=0.949, test=0.510) total time=   0.0s\n",
      "[CV 2/3] END C=10, kernel=linear;, score=(train=0.956, test=0.522) total time=   0.0s\n",
      "[CV 3/3] END C=10, kernel=linear;, score=(train=0.925, test=0.541) total time=   0.0s\n",
      "[CV 1/3] END C=10, kernel=poly;, score=(train=0.327, test=0.325) total time=   0.0s\n",
      "[CV 2/3] END C=10, kernel=poly;, score=(train=0.326, test=0.327) total time=   0.0s\n",
      "[CV 3/3] END C=10, kernel=poly;, score=(train=0.326, test=0.327) total time=   0.0s\n",
      "[CV 1/3] END C=20, kernel=sigmoid;, score=(train=0.327, test=0.325) total time=   0.0s\n",
      "[CV 2/3] END C=20, kernel=sigmoid;, score=(train=0.326, test=0.327) total time=   0.0s\n",
      "[CV 3/3] END C=20, kernel=sigmoid;, score=(train=0.326, test=0.327) total time=   0.0s\n",
      "[CV 1/3] END C=20, kernel=rbf;, score=(train=0.327, test=0.325) total time=   0.0s\n",
      "[CV 2/3] END C=20, kernel=rbf;, score=(train=0.326, test=0.327) total time=   0.0s\n",
      "[CV 3/3] END C=20, kernel=rbf;, score=(train=0.326, test=0.327) total time=   0.0s\n",
      "[CV 1/3] END C=20, kernel=linear;, score=(train=0.980, test=0.515) total time=   0.0s\n",
      "[CV 2/3] END C=20, kernel=linear;, score=(train=0.993, test=0.498) total time=   0.0s\n",
      "[CV 3/3] END C=20, kernel=linear;, score=(train=0.968, test=0.517) total time=   0.0s\n",
      "[CV 1/3] END C=20, kernel=poly;, score=(train=0.327, test=0.325) total time=   0.0s\n",
      "[CV 2/3] END C=20, kernel=poly;, score=(train=0.326, test=0.327) total time=   0.0s\n",
      "[CV 3/3] END C=20, kernel=poly;, score=(train=0.326, test=0.327) total time=   0.0s\n",
      "[CV 1/3] END C=30, kernel=sigmoid;, score=(train=0.327, test=0.325) total time=   0.0s\n",
      "[CV 2/3] END C=30, kernel=sigmoid;, score=(train=0.326, test=0.327) total time=   0.0s\n",
      "[CV 3/3] END C=30, kernel=sigmoid;, score=(train=0.326, test=0.327) total time=   0.0s\n",
      "[CV 1/3] END C=30, kernel=rbf;, score=(train=0.339, test=0.335) total time=   0.0s\n",
      "[CV 2/3] END C=30, kernel=rbf;, score=(train=0.331, test=0.341) total time=   0.0s\n",
      "[CV 3/3] END C=30, kernel=rbf;, score=(train=0.387, test=0.356) total time=   0.0s\n",
      "[CV 1/3] END C=30, kernel=linear;, score=(train=0.995, test=0.510) total time=   0.0s\n",
      "[CV 2/3] END C=30, kernel=linear;, score=(train=0.998, test=0.498) total time=   0.0s\n",
      "[CV 3/3] END C=30, kernel=linear;, score=(train=0.983, test=0.478) total time=   0.0s\n",
      "[CV 1/3] END C=30, kernel=poly;, score=(train=0.327, test=0.325) total time=   0.0s\n",
      "[CV 2/3] END C=30, kernel=poly;, score=(train=0.326, test=0.327) total time=   0.0s\n",
      "[CV 3/3] END C=30, kernel=poly;, score=(train=0.326, test=0.327) total time=   0.0s\n",
      "[CV 1/3] END C=50, kernel=sigmoid;, score=(train=0.329, test=0.325) total time=   0.0s\n",
      "[CV 2/3] END C=50, kernel=sigmoid;, score=(train=0.326, test=0.327) total time=   0.0s\n",
      "[CV 3/3] END C=50, kernel=sigmoid;, score=(train=0.336, test=0.327) total time=   0.0s\n",
      "[CV 1/3] END C=50, kernel=rbf;, score=(train=0.502, test=0.510) total time=   0.0s\n",
      "[CV 2/3] END C=50, kernel=rbf;, score=(train=0.509, test=0.444) total time=   0.0s\n",
      "[CV 3/3] END C=50, kernel=rbf;, score=(train=0.511, test=0.468) total time=   0.0s\n",
      "[CV 1/3] END C=50, kernel=linear;, score=(train=0.998, test=0.505) total time=   0.0s\n",
      "[CV 2/3] END C=50, kernel=linear;, score=(train=0.998, test=0.473) total time=   0.0s\n",
      "[CV 3/3] END C=50, kernel=linear;, score=(train=0.990, test=0.473) total time=   0.0s\n",
      "[CV 1/3] END C=50, kernel=poly;, score=(train=0.327, test=0.325) total time=   0.0s\n",
      "[CV 2/3] END C=50, kernel=poly;, score=(train=0.326, test=0.327) total time=   0.0s\n",
      "[CV 3/3] END C=50, kernel=poly;, score=(train=0.326, test=0.327) total time=   0.0s\n",
      "[CV 1/3] END C=100, kernel=sigmoid;, score=(train=0.500, test=0.510) total time=   0.0s\n",
      "[CV 2/3] END C=100, kernel=sigmoid;, score=(train=0.509, test=0.444) total time=   0.0s\n",
      "[CV 3/3] END C=100, kernel=sigmoid;, score=(train=0.511, test=0.468) total time=   0.0s\n",
      "[CV 1/3] END C=100, kernel=rbf;, score=(train=0.588, test=0.534) total time=   0.0s\n",
      "[CV 2/3] END C=100, kernel=rbf;, score=(train=0.599, test=0.532) total time=   0.0s\n",
      "[CV 3/3] END C=100, kernel=rbf;, score=(train=0.623, test=0.507) total time=   0.0s\n",
      "[CV 1/3] END C=100, kernel=linear;, score=(train=0.998, test=0.495) total time=   0.0s\n",
      "[CV 2/3] END C=100, kernel=linear;, score=(train=1.000, test=0.483) total time=   0.0s\n",
      "[CV 3/3] END C=100, kernel=linear;, score=(train=1.000, test=0.463) total time=   0.0s\n",
      "[CV 1/3] END C=100, kernel=poly;, score=(train=0.327, test=0.325) total time=   0.0s\n",
      "[CV 2/3] END C=100, kernel=poly;, score=(train=0.326, test=0.327) total time=   0.0s\n",
      "[CV 3/3] END C=100, kernel=poly;, score=(train=0.326, test=0.327) total time=   0.0s\n",
      "Fitting 3 folds for each of 14 candidates, totalling 42 fits\n",
      "[CV 1/3] END n_estimators=1;, score=(train=0.768, test=0.374) total time=   0.0s\n",
      "[CV 2/3] END n_estimators=1;, score=(train=0.788, test=0.468) total time=   0.0s\n",
      "[CV 3/3] END n_estimators=1;, score=(train=0.754, test=0.341) total time=   0.0s\n",
      "[CV 1/3] END n_estimators=5;, score=(train=0.959, test=0.553) total time=   0.0s\n",
      "[CV 2/3] END n_estimators=5;, score=(train=0.961, test=0.459) total time=   0.0s\n",
      "[CV 3/3] END n_estimators=5;, score=(train=0.944, test=0.420) total time=   0.0s\n",
      "[CV 1/3] END n_estimators=10;, score=(train=0.995, test=0.587) total time=   0.0s\n",
      "[CV 2/3] END n_estimators=10;, score=(train=0.988, test=0.512) total time=   0.0s\n",
      "[CV 3/3] END n_estimators=10;, score=(train=0.981, test=0.498) total time=   0.0s\n",
      "[CV 1/3] END n_estimators=50;, score=(train=1.000, test=0.597) total time=   0.0s\n",
      "[CV 2/3] END n_estimators=50;, score=(train=1.000, test=0.595) total time=   0.0s\n",
      "[CV 3/3] END n_estimators=50;, score=(train=1.000, test=0.556) total time=   0.0s\n",
      "[CV 1/3] END n_estimators=100;, score=(train=1.000, test=0.573) total time=   0.1s\n",
      "[CV 2/3] END n_estimators=100;, score=(train=1.000, test=0.590) total time=   0.1s\n",
      "[CV 3/3] END n_estimators=100;, score=(train=1.000, test=0.556) total time=   0.1s\n",
      "[CV 1/3] END n_estimators=200;, score=(train=1.000, test=0.636) total time=   0.3s\n",
      "[CV 2/3] END n_estimators=200;, score=(train=1.000, test=0.585) total time=   0.3s\n",
      "[CV 3/3] END n_estimators=200;, score=(train=1.000, test=0.546) total time=   0.3s\n",
      "[CV 1/3] END n_estimators=300;, score=(train=1.000, test=0.655) total time=   0.5s\n",
      "[CV 2/3] END n_estimators=300;, score=(train=1.000, test=0.590) total time=   0.4s\n",
      "[CV 3/3] END n_estimators=300;, score=(train=1.000, test=0.580) total time=   0.5s\n",
      "[CV 1/3] END n_estimators=400;, score=(train=1.000, test=0.650) total time=   0.7s\n",
      "[CV 2/3] END n_estimators=400;, score=(train=1.000, test=0.595) total time=   0.8s\n",
      "[CV 3/3] END n_estimators=400;, score=(train=1.000, test=0.576) total time=   0.7s\n"
     ]
    },
    {
     "name": "stdout",
     "output_type": "stream",
     "text": [
      "[CV 1/3] END n_estimators=500;, score=(train=1.000, test=0.641) total time=   1.0s\n",
      "[CV 2/3] END n_estimators=500;, score=(train=1.000, test=0.595) total time=   1.0s\n",
      "[CV 3/3] END n_estimators=500;, score=(train=1.000, test=0.576) total time=   0.8s\n",
      "[CV 1/3] END n_estimators=600;, score=(train=1.000, test=0.646) total time=   1.1s\n",
      "[CV 2/3] END n_estimators=600;, score=(train=1.000, test=0.595) total time=   1.0s\n",
      "[CV 3/3] END n_estimators=600;, score=(train=1.000, test=0.610) total time=   1.1s\n",
      "[CV 1/3] END n_estimators=700;, score=(train=1.000, test=0.665) total time=   1.3s\n",
      "[CV 2/3] END n_estimators=700;, score=(train=1.000, test=0.605) total time=   1.4s\n",
      "[CV 3/3] END n_estimators=700;, score=(train=1.000, test=0.551) total time=   1.4s\n",
      "[CV 1/3] END n_estimators=800;, score=(train=1.000, test=0.636) total time=   1.6s\n",
      "[CV 2/3] END n_estimators=800;, score=(train=1.000, test=0.590) total time=   1.4s\n",
      "[CV 3/3] END n_estimators=800;, score=(train=1.000, test=0.590) total time=   1.6s\n",
      "[CV 1/3] END n_estimators=900;, score=(train=1.000, test=0.655) total time=   1.8s\n",
      "[CV 2/3] END n_estimators=900;, score=(train=1.000, test=0.595) total time=   1.8s\n",
      "[CV 3/3] END n_estimators=900;, score=(train=1.000, test=0.590) total time=   1.5s\n",
      "[CV 1/3] END n_estimators=1000;, score=(train=1.000, test=0.650) total time=   1.7s\n",
      "[CV 2/3] END n_estimators=1000;, score=(train=1.000, test=0.595) total time=   1.9s\n",
      "[CV 3/3] END n_estimators=1000;, score=(train=1.000, test=0.576) total time=   1.9s\n",
      "Fitting 3 folds for each of 5 candidates, totalling 15 fits\n",
      "[CV 1/3] END ...........C=1;, score=(train=0.702, test=0.583) total time=   0.0s\n",
      "[CV 2/3] END ...........C=1;, score=(train=0.727, test=0.556) total time=   0.0s\n",
      "[CV 3/3] END ...........C=1;, score=(train=0.696, test=0.537) total time=   0.0s\n",
      "[CV 1/3] END ...........C=5;, score=(train=0.832, test=0.573) total time=   0.0s\n",
      "[CV 2/3] END ...........C=5;, score=(train=0.856, test=0.556) total time=   0.0s\n",
      "[CV 3/3] END ...........C=5;, score=(train=0.800, test=0.527) total time=   0.0s\n",
      "[CV 1/3] END ..........C=10;, score=(train=0.871, test=0.544) total time=   0.0s\n",
      "[CV 2/3] END ..........C=10;, score=(train=0.881, test=0.556) total time=   0.0s\n",
      "[CV 3/3] END ..........C=10;, score=(train=0.849, test=0.532) total time=   0.0s\n",
      "[CV 1/3] END ..........C=50;, score=(train=0.959, test=0.549) total time=   0.0s\n",
      "[CV 2/3] END ..........C=50;, score=(train=0.973, test=0.507) total time=   0.0s\n",
      "[CV 3/3] END ..........C=50;, score=(train=0.959, test=0.498) total time=   0.0s\n",
      "[CV 1/3] END .........C=100;, score=(train=0.990, test=0.544) total time=   0.0s\n",
      "[CV 2/3] END .........C=100;, score=(train=0.993, test=0.493) total time=   0.0s\n",
      "[CV 3/3] END .........C=100;, score=(train=0.985, test=0.473) total time=   0.0s\n",
      "Fitting 3 folds for each of 56 candidates, totalling 168 fits\n",
      "[CV 1/3] END metric=minkowski, n_neighbors=1;, score=(train=1.000, test=0.388) total time=   0.0s\n",
      "[CV 2/3] END metric=minkowski, n_neighbors=1;, score=(train=1.000, test=0.424) total time=   0.0s\n",
      "[CV 3/3] END metric=minkowski, n_neighbors=1;, score=(train=1.000, test=0.498) total time=   0.0s\n",
      "[CV 1/3] END metric=minkowski, n_neighbors=3;, score=(train=0.663, test=0.437) total time=   0.0s\n",
      "[CV 2/3] END metric=minkowski, n_neighbors=3;, score=(train=0.686, test=0.444) total time=   0.0s\n",
      "[CV 3/3] END metric=minkowski, n_neighbors=3;, score=(train=0.664, test=0.488) total time=   0.0s\n",
      "[CV 1/3] END metric=minkowski, n_neighbors=5;, score=(train=0.649, test=0.466) total time=   0.0s\n",
      "[CV 2/3] END metric=minkowski, n_neighbors=5;, score=(train=0.664, test=0.459) total time=   0.0s\n",
      "[CV 3/3] END metric=minkowski, n_neighbors=5;, score=(train=0.603, test=0.478) total time=   0.0s\n",
      "[CV 1/3] END metric=minkowski, n_neighbors=7;, score=(train=0.593, test=0.495) total time=   0.0s\n",
      "[CV 2/3] END metric=minkowski, n_neighbors=7;, score=(train=0.633, test=0.459) total time=   0.0s\n",
      "[CV 3/3] END metric=minkowski, n_neighbors=7;, score=(train=0.599, test=0.463) total time=   0.0s\n",
      "[CV 1/3] END metric=minkowski, n_neighbors=9;, score=(train=0.607, test=0.515) total time=   0.0s\n",
      "[CV 2/3] END metric=minkowski, n_neighbors=9;, score=(train=0.608, test=0.449) total time=   0.0s\n",
      "[CV 3/3] END metric=minkowski, n_neighbors=9;, score=(train=0.589, test=0.478) total time=   0.0s\n",
      "[CV 1/3] END metric=minkowski, n_neighbors=11;, score=(train=0.598, test=0.524) total time=   0.0s\n",
      "[CV 2/3] END metric=minkowski, n_neighbors=11;, score=(train=0.591, test=0.429) total time=   0.0s\n",
      "[CV 3/3] END metric=minkowski, n_neighbors=11;, score=(train=0.574, test=0.454) total time=   0.0s\n",
      "[CV 1/3] END metric=minkowski, n_neighbors=13;, score=(train=0.578, test=0.505) total time=   0.0s\n",
      "[CV 2/3] END metric=minkowski, n_neighbors=13;, score=(train=0.599, test=0.439) total time=   0.0s\n",
      "[CV 3/3] END metric=minkowski, n_neighbors=13;, score=(train=0.567, test=0.483) total time=   0.0s\n",
      "[CV 1/3] END metric=euclidean, n_neighbors=1;, score=(train=1.000, test=0.388) total time=   0.0s\n",
      "[CV 2/3] END metric=euclidean, n_neighbors=1;, score=(train=1.000, test=0.424) total time=   0.0s\n",
      "[CV 3/3] END metric=euclidean, n_neighbors=1;, score=(train=1.000, test=0.498) total time=   0.0s\n",
      "[CV 1/3] END metric=euclidean, n_neighbors=3;, score=(train=0.663, test=0.437) total time=   0.0s\n",
      "[CV 2/3] END metric=euclidean, n_neighbors=3;, score=(train=0.686, test=0.444) total time=   0.0s\n",
      "[CV 3/3] END metric=euclidean, n_neighbors=3;, score=(train=0.664, test=0.488) total time=   0.0s\n",
      "[CV 1/3] END metric=euclidean, n_neighbors=5;, score=(train=0.649, test=0.466) total time=   0.0s\n",
      "[CV 2/3] END metric=euclidean, n_neighbors=5;, score=(train=0.664, test=0.459) total time=   0.0s\n",
      "[CV 3/3] END metric=euclidean, n_neighbors=5;, score=(train=0.603, test=0.478) total time=   0.0s\n",
      "[CV 1/3] END metric=euclidean, n_neighbors=7;, score=(train=0.593, test=0.495) total time=   0.0s\n",
      "[CV 2/3] END metric=euclidean, n_neighbors=7;, score=(train=0.633, test=0.459) total time=   0.0s\n",
      "[CV 3/3] END metric=euclidean, n_neighbors=7;, score=(train=0.599, test=0.463) total time=   0.0s\n",
      "[CV 1/3] END metric=euclidean, n_neighbors=9;, score=(train=0.607, test=0.515) total time=   0.0s\n",
      "[CV 2/3] END metric=euclidean, n_neighbors=9;, score=(train=0.608, test=0.449) total time=   0.0s\n",
      "[CV 3/3] END metric=euclidean, n_neighbors=9;, score=(train=0.589, test=0.478) total time=   0.0s\n",
      "[CV 1/3] END metric=euclidean, n_neighbors=11;, score=(train=0.598, test=0.524) total time=   0.0s\n",
      "[CV 2/3] END metric=euclidean, n_neighbors=11;, score=(train=0.591, test=0.429) total time=   0.0s\n",
      "[CV 3/3] END metric=euclidean, n_neighbors=11;, score=(train=0.574, test=0.454) total time=   0.0s\n",
      "[CV 1/3] END metric=euclidean, n_neighbors=13;, score=(train=0.578, test=0.505) total time=   0.0s\n",
      "[CV 2/3] END metric=euclidean, n_neighbors=13;, score=(train=0.599, test=0.439) total time=   0.0s\n",
      "[CV 3/3] END metric=euclidean, n_neighbors=13;, score=(train=0.567, test=0.483) total time=   0.0s\n",
      "[CV 1/3] END metric=manhattan, n_neighbors=1;, score=(train=1.000, test=0.393) total time=   0.0s\n",
      "[CV 2/3] END metric=manhattan, n_neighbors=1;, score=(train=1.000, test=0.454) total time=   0.0s\n",
      "[CV 3/3] END metric=manhattan, n_neighbors=1;, score=(train=1.000, test=0.415) total time=   0.0s\n",
      "[CV 1/3] END metric=manhattan, n_neighbors=3;, score=(train=0.685, test=0.490) total time=   0.0s\n",
      "[CV 2/3] END metric=manhattan, n_neighbors=3;, score=(train=0.710, test=0.454) total time=   0.0s\n",
      "[CV 3/3] END metric=manhattan, n_neighbors=3;, score=(train=0.676, test=0.493) total time=   0.0s\n",
      "[CV 1/3] END metric=manhattan, n_neighbors=5;, score=(train=0.602, test=0.534) total time=   0.0s\n",
      "[CV 2/3] END metric=manhattan, n_neighbors=5;, score=(train=0.689, test=0.459) total time=   0.0s\n",
      "[CV 3/3] END metric=manhattan, n_neighbors=5;, score=(train=0.647, test=0.512) total time=   0.0s\n",
      "[CV 1/3] END metric=manhattan, n_neighbors=7;, score=(train=0.605, test=0.471) total time=   0.0s\n",
      "[CV 2/3] END metric=manhattan, n_neighbors=7;, score=(train=0.667, test=0.468) total time=   0.0s\n",
      "[CV 3/3] END metric=manhattan, n_neighbors=7;, score=(train=0.630, test=0.522) total time=   0.0s\n",
      "[CV 1/3] END metric=manhattan, n_neighbors=9;, score=(train=0.588, test=0.519) total time=   0.0s\n",
      "[CV 2/3] END metric=manhattan, n_neighbors=9;, score=(train=0.655, test=0.507) total time=   0.0s\n"
     ]
    },
    {
     "name": "stdout",
     "output_type": "stream",
     "text": [
      "[CV 3/3] END metric=manhattan, n_neighbors=9;, score=(train=0.603, test=0.522) total time=   0.0s\n",
      "[CV 1/3] END metric=manhattan, n_neighbors=11;, score=(train=0.580, test=0.490) total time=   0.0s\n",
      "[CV 2/3] END metric=manhattan, n_neighbors=11;, score=(train=0.620, test=0.512) total time=   0.0s\n",
      "[CV 3/3] END metric=manhattan, n_neighbors=11;, score=(train=0.628, test=0.468) total time=   0.0s\n",
      "[CV 1/3] END metric=manhattan, n_neighbors=13;, score=(train=0.559, test=0.500) total time=   0.0s\n",
      "[CV 2/3] END metric=manhattan, n_neighbors=13;, score=(train=0.630, test=0.537) total time=   0.0s\n",
      "[CV 3/3] END metric=manhattan, n_neighbors=13;, score=(train=0.599, test=0.493) total time=   0.0s\n",
      "[CV 1/3] END metric=chebyshev, n_neighbors=1;, score=(train=1.000, test=0.379) total time=   0.0s\n",
      "[CV 2/3] END metric=chebyshev, n_neighbors=1;, score=(train=1.000, test=0.400) total time=   0.0s\n",
      "[CV 3/3] END metric=chebyshev, n_neighbors=1;, score=(train=1.000, test=0.459) total time=   0.0s\n",
      "[CV 1/3] END metric=chebyshev, n_neighbors=3;, score=(train=0.673, test=0.369) total time=   0.0s\n",
      "[CV 2/3] END metric=chebyshev, n_neighbors=3;, score=(train=0.647, test=0.449) total time=   0.0s\n",
      "[CV 3/3] END metric=chebyshev, n_neighbors=3;, score=(train=0.637, test=0.439) total time=   0.0s\n",
      "[CV 1/3] END metric=chebyshev, n_neighbors=5;, score=(train=0.620, test=0.417) total time=   0.0s\n",
      "[CV 2/3] END metric=chebyshev, n_neighbors=5;, score=(train=0.579, test=0.463) total time=   0.0s\n",
      "[CV 3/3] END metric=chebyshev, n_neighbors=5;, score=(train=0.591, test=0.405) total time=   0.0s\n",
      "[CV 1/3] END metric=chebyshev, n_neighbors=7;, score=(train=0.571, test=0.398) total time=   0.0s\n",
      "[CV 2/3] END metric=chebyshev, n_neighbors=7;, score=(train=0.560, test=0.493) total time=   0.0s\n",
      "[CV 3/3] END metric=chebyshev, n_neighbors=7;, score=(train=0.547, test=0.429) total time=   0.0s\n",
      "[CV 1/3] END metric=chebyshev, n_neighbors=9;, score=(train=0.576, test=0.422) total time=   0.0s\n",
      "[CV 2/3] END metric=chebyshev, n_neighbors=9;, score=(train=0.562, test=0.493) total time=   0.0s\n",
      "[CV 3/3] END metric=chebyshev, n_neighbors=9;, score=(train=0.516, test=0.434) total time=   0.0s\n",
      "[CV 1/3] END metric=chebyshev, n_neighbors=11;, score=(train=0.585, test=0.427) total time=   0.0s\n",
      "[CV 2/3] END metric=chebyshev, n_neighbors=11;, score=(train=0.538, test=0.473) total time=   0.0s\n",
      "[CV 3/3] END metric=chebyshev, n_neighbors=11;, score=(train=0.509, test=0.434) total time=   0.0s\n",
      "[CV 1/3] END metric=chebyshev, n_neighbors=13;, score=(train=0.561, test=0.451) total time=   0.0s\n",
      "[CV 2/3] END metric=chebyshev, n_neighbors=13;, score=(train=0.535, test=0.473) total time=   0.0s\n",
      "[CV 3/3] END metric=chebyshev, n_neighbors=13;, score=(train=0.509, test=0.434) total time=   0.0s\n",
      "[CV 1/3] END metric=cosine, n_neighbors=1;, score=(train=1.000, test=0.388) total time=   0.0s\n",
      "[CV 2/3] END metric=cosine, n_neighbors=1;, score=(train=1.000, test=0.424) total time=   0.0s\n",
      "[CV 3/3] END metric=cosine, n_neighbors=1;, score=(train=1.000, test=0.498) total time=   0.0s\n",
      "[CV 1/3] END metric=cosine, n_neighbors=3;, score=(train=0.663, test=0.437) total time=   0.0s\n",
      "[CV 2/3] END metric=cosine, n_neighbors=3;, score=(train=0.686, test=0.444) total time=   0.0s\n",
      "[CV 3/3] END metric=cosine, n_neighbors=3;, score=(train=0.664, test=0.488) total time=   0.0s\n",
      "[CV 1/3] END metric=cosine, n_neighbors=5;, score=(train=0.649, test=0.466) total time=   0.0s\n",
      "[CV 2/3] END metric=cosine, n_neighbors=5;, score=(train=0.664, test=0.459) total time=   0.0s\n",
      "[CV 3/3] END metric=cosine, n_neighbors=5;, score=(train=0.603, test=0.478) total time=   0.0s\n",
      "[CV 1/3] END metric=cosine, n_neighbors=7;, score=(train=0.593, test=0.495) total time=   0.0s\n",
      "[CV 2/3] END metric=cosine, n_neighbors=7;, score=(train=0.633, test=0.459) total time=   0.0s\n",
      "[CV 3/3] END metric=cosine, n_neighbors=7;, score=(train=0.599, test=0.463) total time=   0.0s\n",
      "[CV 1/3] END metric=cosine, n_neighbors=9;, score=(train=0.607, test=0.515) total time=   0.0s\n",
      "[CV 2/3] END metric=cosine, n_neighbors=9;, score=(train=0.608, test=0.449) total time=   0.0s\n",
      "[CV 3/3] END metric=cosine, n_neighbors=9;, score=(train=0.589, test=0.478) total time=   0.0s\n",
      "[CV 1/3] END metric=cosine, n_neighbors=11;, score=(train=0.598, test=0.524) total time=   0.0s\n",
      "[CV 2/3] END metric=cosine, n_neighbors=11;, score=(train=0.591, test=0.429) total time=   0.0s\n",
      "[CV 3/3] END metric=cosine, n_neighbors=11;, score=(train=0.574, test=0.454) total time=   0.0s\n",
      "[CV 1/3] END metric=cosine, n_neighbors=13;, score=(train=0.578, test=0.505) total time=   0.0s\n",
      "[CV 2/3] END metric=cosine, n_neighbors=13;, score=(train=0.599, test=0.439) total time=   0.0s\n",
      "[CV 3/3] END metric=cosine, n_neighbors=13;, score=(train=0.567, test=0.483) total time=   0.0s\n",
      "[CV 1/3] END metric=hamming, n_neighbors=1;, score=(train=1.000, test=0.311) total time=   0.1s\n",
      "[CV 2/3] END metric=hamming, n_neighbors=1;, score=(train=1.000, test=0.371) total time=   0.0s\n",
      "[CV 3/3] END metric=hamming, n_neighbors=1;, score=(train=1.000, test=0.288) total time=   0.1s\n",
      "[CV 1/3] END metric=hamming, n_neighbors=3;, score=(train=0.700, test=0.393) total time=   0.0s\n",
      "[CV 2/3] END metric=hamming, n_neighbors=3;, score=(train=0.740, test=0.366) total time=   0.0s\n",
      "[CV 3/3] END metric=hamming, n_neighbors=3;, score=(train=0.764, test=0.283) total time=   0.0s\n",
      "[CV 1/3] END metric=hamming, n_neighbors=5;, score=(train=0.549, test=0.403) total time=   0.0s\n",
      "[CV 2/3] END metric=hamming, n_neighbors=5;, score=(train=0.608, test=0.405) total time=   0.0s\n",
      "[CV 3/3] END metric=hamming, n_neighbors=5;, score=(train=0.564, test=0.293) total time=   0.0s\n",
      "[CV 1/3] END metric=hamming, n_neighbors=7;, score=(train=0.517, test=0.408) total time=   0.0s\n",
      "[CV 2/3] END metric=hamming, n_neighbors=7;, score=(train=0.530, test=0.376) total time=   0.0s\n",
      "[CV 3/3] END metric=hamming, n_neighbors=7;, score=(train=0.535, test=0.283) total time=   0.1s\n",
      "[CV 1/3] END metric=hamming, n_neighbors=9;, score=(train=0.502, test=0.403) total time=   0.1s\n",
      "[CV 2/3] END metric=hamming, n_neighbors=9;, score=(train=0.516, test=0.390) total time=   0.0s\n",
      "[CV 3/3] END metric=hamming, n_neighbors=9;, score=(train=0.504, test=0.283) total time=   0.0s\n",
      "[CV 1/3] END metric=hamming, n_neighbors=11;, score=(train=0.485, test=0.379) total time=   0.1s\n",
      "[CV 2/3] END metric=hamming, n_neighbors=11;, score=(train=0.477, test=0.395) total time=   0.0s\n",
      "[CV 3/3] END metric=hamming, n_neighbors=11;, score=(train=0.487, test=0.302) total time=   0.0s\n",
      "[CV 1/3] END metric=hamming, n_neighbors=13;, score=(train=0.459, test=0.388) total time=   0.0s\n",
      "[CV 2/3] END metric=hamming, n_neighbors=13;, score=(train=0.477, test=0.395) total time=   0.0s\n",
      "[CV 3/3] END metric=hamming, n_neighbors=13;, score=(train=0.484, test=0.298) total time=   0.0s\n",
      "[CV 1/3] END metric=canberra, n_neighbors=1;, score=(train=1.000, test=0.485) total time=   0.1s\n",
      "[CV 2/3] END metric=canberra, n_neighbors=1;, score=(train=1.000, test=0.488) total time=   0.1s\n",
      "[CV 3/3] END metric=canberra, n_neighbors=1;, score=(train=1.000, test=0.478) total time=   0.1s\n",
      "[CV 1/3] END metric=canberra, n_neighbors=3;, score=(train=0.751, test=0.490) total time=   0.1s\n",
      "[CV 2/3] END metric=canberra, n_neighbors=3;, score=(train=0.725, test=0.502) total time=   0.1s\n",
      "[CV 3/3] END metric=canberra, n_neighbors=3;, score=(train=0.764, test=0.459) total time=   0.1s\n",
      "[CV 1/3] END metric=canberra, n_neighbors=5;, score=(train=0.678, test=0.524) total time=   0.1s\n",
      "[CV 2/3] END metric=canberra, n_neighbors=5;, score=(train=0.664, test=0.556) total time=   0.1s\n",
      "[CV 3/3] END metric=canberra, n_neighbors=5;, score=(train=0.706, test=0.444) total time=   0.1s\n",
      "[CV 1/3] END metric=canberra, n_neighbors=7;, score=(train=0.651, test=0.563) total time=   0.1s\n",
      "[CV 2/3] END metric=canberra, n_neighbors=7;, score=(train=0.640, test=0.556) total time=   0.1s\n",
      "[CV 3/3] END metric=canberra, n_neighbors=7;, score=(train=0.674, test=0.483) total time=   0.1s\n",
      "[CV 1/3] END metric=canberra, n_neighbors=9;, score=(train=0.637, test=0.539) total time=   0.1s\n",
      "[CV 2/3] END metric=canberra, n_neighbors=9;, score=(train=0.635, test=0.615) total time=   0.1s\n",
      "[CV 3/3] END metric=canberra, n_neighbors=9;, score=(train=0.664, test=0.493) total time=   0.1s\n"
     ]
    },
    {
     "name": "stdout",
     "output_type": "stream",
     "text": [
      "[CV 1/3] END metric=canberra, n_neighbors=11;, score=(train=0.617, test=0.553) total time=   0.1s\n",
      "[CV 2/3] END metric=canberra, n_neighbors=11;, score=(train=0.594, test=0.615) total time=   0.1s\n",
      "[CV 3/3] END metric=canberra, n_neighbors=11;, score=(train=0.657, test=0.468) total time=   0.1s\n",
      "[CV 1/3] END metric=canberra, n_neighbors=13;, score=(train=0.612, test=0.529) total time=   0.1s\n",
      "[CV 2/3] END metric=canberra, n_neighbors=13;, score=(train=0.567, test=0.576) total time=   0.1s\n",
      "[CV 3/3] END metric=canberra, n_neighbors=13;, score=(train=0.630, test=0.527) total time=   0.1s\n",
      "[CV 1/3] END metric=braycurtis, n_neighbors=1;, score=(train=1.000, test=0.510) total time=   0.0s\n",
      "[CV 2/3] END metric=braycurtis, n_neighbors=1;, score=(train=1.000, test=0.522) total time=   0.0s\n",
      "[CV 3/3] END metric=braycurtis, n_neighbors=1;, score=(train=1.000, test=0.493) total time=   0.0s\n",
      "[CV 1/3] END metric=braycurtis, n_neighbors=3;, score=(train=0.707, test=0.544) total time=   0.0s\n",
      "[CV 2/3] END metric=braycurtis, n_neighbors=3;, score=(train=0.737, test=0.498) total time=   0.0s\n",
      "[CV 3/3] END metric=braycurtis, n_neighbors=3;, score=(train=0.740, test=0.502) total time=   0.0s\n",
      "[CV 1/3] END metric=braycurtis, n_neighbors=5;, score=(train=0.705, test=0.563) total time=   0.0s\n",
      "[CV 2/3] END metric=braycurtis, n_neighbors=5;, score=(train=0.708, test=0.551) total time=   0.0s\n",
      "[CV 3/3] END metric=braycurtis, n_neighbors=5;, score=(train=0.662, test=0.527) total time=   0.0s\n",
      "[CV 1/3] END metric=braycurtis, n_neighbors=7;, score=(train=0.673, test=0.568) total time=   0.0s\n",
      "[CV 2/3] END metric=braycurtis, n_neighbors=7;, score=(train=0.701, test=0.537) total time=   0.0s\n",
      "[CV 3/3] END metric=braycurtis, n_neighbors=7;, score=(train=0.689, test=0.527) total time=   0.0s\n",
      "[CV 1/3] END metric=braycurtis, n_neighbors=9;, score=(train=0.680, test=0.568) total time=   0.0s\n",
      "[CV 2/3] END metric=braycurtis, n_neighbors=9;, score=(train=0.669, test=0.590) total time=   0.0s\n",
      "[CV 3/3] END metric=braycurtis, n_neighbors=9;, score=(train=0.667, test=0.532) total time=   0.0s\n",
      "[CV 1/3] END metric=braycurtis, n_neighbors=11;, score=(train=0.666, test=0.549) total time=   0.0s\n",
      "[CV 2/3] END metric=braycurtis, n_neighbors=11;, score=(train=0.655, test=0.561) total time=   0.0s\n",
      "[CV 3/3] END metric=braycurtis, n_neighbors=11;, score=(train=0.628, test=0.556) total time=   0.0s\n",
      "[CV 1/3] END metric=braycurtis, n_neighbors=13;, score=(train=0.646, test=0.553) total time=   0.0s\n",
      "[CV 2/3] END metric=braycurtis, n_neighbors=13;, score=(train=0.633, test=0.566) total time=   0.0s\n",
      "[CV 3/3] END metric=braycurtis, n_neighbors=13;, score=(train=0.625, test=0.551) total time=   0.0s\n"
     ]
    }
   ],
   "source": [
    "## from sklearn.model_selection import GridSearchCV\n",
    "scores = []\n",
    "\n",
    "for model_name, mp in model_params.items():\n",
    "    clf = GridSearchCV(mp['model'], mp['params'], cv=3, return_train_score=True, verbose=3)\n",
    "    clf.fit(X_train, y_train)\n",
    "    scores.append({\n",
    "        'model': model_name,\n",
    "        'best_score': clf.best_score_,\n",
    "        'best_params': clf.best_params_\n",
    "    })"
   ]
  },
  {
   "cell_type": "code",
   "execution_count": 44,
   "metadata": {},
   "outputs": [
    {
     "name": "stdout",
     "output_type": "stream",
     "text": [
      "                 model  best_score                                 best_params\n",
      "0                  svm    0.551969                {'C': 1, 'kernel': 'linear'}\n",
      "1        random_forest    0.616836                       {'n_estimators': 600}\n",
      "2  logistic_regression    0.558402                                    {'C': 1}\n",
      "3                  KNN    0.563304  {'metric': 'braycurtis', 'n_neighbors': 9}\n"
     ]
    }
   ],
   "source": [
    "df_score = pd.DataFrame(scores,columns=['model','best_score','best_params'])\n",
    "print(df_score)"
   ]
  },
  {
   "cell_type": "code",
   "execution_count": 45,
   "metadata": {
    "scrolled": true
   },
   "outputs": [
    {
     "name": "stdout",
     "output_type": "stream",
     "text": [
      "Train accuracy - SVM: 0.7305194805194806\n",
      "Test accuracy - SVM: 0.5064935064935064\n"
     ]
    }
   ],
   "source": [
    "# SVM\n",
    "C = 1\n",
    "kernel = \"linear\"\n",
    "\n",
    "svm_clf = svm.SVC(kernel=kernel, C=C, gamma='auto')\n",
    "svm_clf.fit(X_train, y_train)\n",
    "\n",
    "svm_clf_score_train = svm_clf.score(X_train, y_train)\n",
    "svm_clf_score_test = svm_clf.score(X_test, y_test)\n",
    "\n",
    "print(f\"Train accuracy - SVM: {svm_clf_score_train}\")\n",
    "print(f\"Test accuracy - SVM: {svm_clf_score_test}\")"
   ]
  },
  {
   "cell_type": "code",
   "execution_count": 46,
   "metadata": {},
   "outputs": [
    {
     "name": "stdout",
     "output_type": "stream",
     "text": [
      "Train accuracy - Random Forest: 1.0\n",
      "Test accuracy - Random Forest: 0.5454545454545454\n"
     ]
    }
   ],
   "source": [
    "# Random Forest\n",
    "n_estimators = 600\n",
    "\n",
    "rf_clf = RandomForestClassifier(n_estimators=n_estimators)\n",
    "rf_clf.fit(X_train, y_train)\n",
    "\n",
    "rf_clf_score_train = rf_clf.score(X_train, y_train)\n",
    "rf_clf_score_test = rf_clf.score(X_test, y_test)\n",
    "\n",
    "print(f\"Train accuracy - Random Forest: {rf_clf_score_train}\")\n",
    "print(f\"Test accuracy - Random Forest: {rf_clf_score_test}\")"
   ]
  },
  {
   "cell_type": "code",
   "execution_count": 47,
   "metadata": {},
   "outputs": [
    {
     "name": "stdout",
     "output_type": "stream",
     "text": [
      "Train accuracy - Logistic Regression: 0.6931818181818182\n",
      "Test accuracy - Logistic Regression: 0.564935064935065\n"
     ]
    }
   ],
   "source": [
    "# Logistic Regression\n",
    "C = 1\n",
    "\n",
    "lr_clf = LogisticRegression(solver='liblinear', multi_class='auto', C=C)\n",
    "lr_clf.fit(X_train, y_train)\n",
    "\n",
    "lr_clf_score_train = lr_clf.score(X_train, y_train)\n",
    "lr_clf_score_test = lr_clf.score(X_test, y_test)\n",
    "\n",
    "print(f\"Train accuracy - Logistic Regression: {lr_clf_score_train}\")\n",
    "print(f\"Test accuracy - Logistic Regression: {lr_clf_score_test}\")"
   ]
  },
  {
   "cell_type": "code",
   "execution_count": 48,
   "metadata": {
    "scrolled": true
   },
   "outputs": [
    {
     "name": "stdout",
     "output_type": "stream",
     "text": [
      "Train accuracy - k-NN: 0.6818181818181818\n",
      "Test accuracy - k-NN: 0.5584415584415584\n"
     ]
    }
   ],
   "source": [
    "# k-NN\n",
    "metric = \"braycurtis\"\n",
    "n_neighbors = 9\n",
    "\n",
    "knn_clf = KNeighborsClassifier(metric=metric, n_neighbors=n_neighbors)\n",
    "knn_clf.fit(X_train, y_train)\n",
    "\n",
    "knn_clf_score_train = knn_clf.score(X_train, y_train)\n",
    "knn_clf_score_test = knn_clf.score(X_test, y_test)\n",
    "\n",
    "print(f\"Train accuracy - k-NN: {knn_clf_score_train}\")\n",
    "print(f\"Test accuracy - k-NN: {knn_clf_score_test}\")"
   ]
  },
  {
   "cell_type": "code",
   "execution_count": null,
   "metadata": {},
   "outputs": [],
   "source": []
  }
 ],
 "metadata": {
  "kernelspec": {
   "display_name": "Python 3 (ipykernel)",
   "language": "python",
   "name": "python3"
  },
  "language_info": {
   "codemirror_mode": {
    "name": "ipython",
    "version": 3
   },
   "file_extension": ".py",
   "mimetype": "text/x-python",
   "name": "python",
   "nbconvert_exporter": "python",
   "pygments_lexer": "ipython3",
   "version": "3.11.7"
  }
 },
 "nbformat": 4,
 "nbformat_minor": 4
}
